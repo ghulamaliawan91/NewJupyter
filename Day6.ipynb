{
 "cells": [
  {
   "cell_type": "markdown",
   "id": "eb5b0ebd-5fb4-45ed-a8de-a1795ecf075a",
   "metadata": {},
   "source": [
    "# Day-8-Video-19 "
   ]
  },
  {
   "cell_type": "code",
   "execution_count": null,
   "id": "30be82f1",
   "metadata": {},
   "outputs": [],
   "source": []
  },
  {
   "cell_type": "code",
   "execution_count": null,
   "id": "7cae97e9",
   "metadata": {},
   "outputs": [],
   "source": [
    "import plotly as py\n",
    "import plotly.graph_objs as go  \n",
    "import pandas as pd \n",
    "import numpy as np  \n",
    "import plotly.express as px \n",
    "\n",
    "df = pd.read_csv(\"https://raw.githubusercontent.com/plotly/datasets/master/gapminderDataFiveYear.csv\")  \n",
    "df.head((3))\n",
    "\n"
   ]
  },
  {
   "cell_type": "code",
   "execution_count": null,
   "id": "8944f45a",
   "metadata": {},
   "outputs": [],
   "source": []
  }
 ],
 "metadata": {
  "kernelspec": {
   "display_name": "python_eda",
   "language": "python",
   "name": "python3"
  },
  "language_info": {
   "codemirror_mode": {
    "name": "ipython",
    "version": 3
   },
   "file_extension": ".py",
   "mimetype": "text/x-python",
   "name": "python",
   "nbconvert_exporter": "python",
   "pygments_lexer": "ipython3",
   "version": "3.13.0"
  }
 },
 "nbformat": 4,
 "nbformat_minor": 5
}
