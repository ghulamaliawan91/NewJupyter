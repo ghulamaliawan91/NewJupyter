{
 "cells": [
  {
   "cell_type": "markdown",
   "id": "4d23c7f7-b6c5-412d-8d14-530b33538c86",
   "metadata": {},
   "source": [
    "### numpy pratice session"
   ]
  },
  {
   "cell_type": "code",
   "execution_count": 7,
   "id": "ded4bcf1-c626-46ff-bbf1-b26c568d9065",
   "metadata": {},
   "outputs": [],
   "source": [
    "import numpy as np\n"
   ]
  },
  {
   "cell_type": "markdown",
   "id": "80e455aa-92a0-4147-bf14-967fcd081f89",
   "metadata": {},
   "source": [
    "# cratting a array using numpy"
   ]
  },
  {
   "cell_type": "code",
   "execution_count": 6,
   "id": "6d798e93-27ea-4e69-9645-5dbc24e82930",
   "metadata": {},
   "outputs": [
    {
     "data": {
      "text/plain": [
       "array(['somasa', 'pakora', 'allo'], dtype='<U6')"
      ]
     },
     "execution_count": 6,
     "metadata": {},
     "output_type": "execute_result"
    }
   ],
   "source": [
    "food = np.array([\"somasa\", \"pakora\", \"allo\"])\n",
    "food"
   ]
  },
  {
   "cell_type": "code",
   "execution_count": 19,
   "id": "1baf8bc4-aeb6-4cbc-aaf1-583153285175",
   "metadata": {},
   "outputs": [
    {
     "data": {
      "text/plain": [
       "array([ 2,  3,  5,  7,  9, 11, 13])"
      ]
     },
     "execution_count": 19,
     "metadata": {},
     "output_type": "execute_result"
    }
   ],
   "source": [
    "price = np.array([2,3,5,7,9,11,13])\n",
    "price"
   ]
  },
  {
   "cell_type": "code",
   "execution_count": 8,
   "id": "28abb8f8-3e8b-426c-afd1-56f2dea14eaa",
   "metadata": {},
   "outputs": [
    {
     "data": {
      "text/plain": [
       "numpy.ndarray"
      ]
     },
     "execution_count": 8,
     "metadata": {},
     "output_type": "execute_result"
    }
   ],
   "source": [
    "type (price)"
   ]
  },
  {
   "cell_type": "code",
   "execution_count": 9,
   "id": "15b87905-eafb-4575-a43b-bb47b23f1b43",
   "metadata": {},
   "outputs": [
    {
     "data": {
      "text/plain": [
       "numpy.ndarray"
      ]
     },
     "execution_count": 9,
     "metadata": {},
     "output_type": "execute_result"
    }
   ],
   "source": [
    "type (food)"
   ]
  },
  {
   "cell_type": "code",
   "execution_count": 10,
   "id": "9350d704-f63b-4573-836d-03b5b24937d4",
   "metadata": {},
   "outputs": [
    {
     "data": {
      "text/plain": [
       "3"
      ]
     },
     "execution_count": 10,
     "metadata": {},
     "output_type": "execute_result"
    }
   ],
   "source": [
    "len(food)"
   ]
  },
  {
   "cell_type": "code",
   "execution_count": 12,
   "id": "4783f70b-4df6-4f78-9fde-337444ad4145",
   "metadata": {},
   "outputs": [
    {
     "data": {
      "text/plain": [
       "array([2, 3, 5])"
      ]
     },
     "execution_count": 12,
     "metadata": {},
     "output_type": "execute_result"
    }
   ],
   "source": [
    "price [0:]"
   ]
  },
  {
   "cell_type": "code",
   "execution_count": 23,
   "id": "b94c1dcf-84bb-4db3-85fb-dd073bf9a77e",
   "metadata": {},
   "outputs": [
    {
     "data": {
      "text/plain": [
       "np.str_('pakora')"
      ]
     },
     "execution_count": 23,
     "metadata": {},
     "output_type": "execute_result"
    }
   ],
   "source": [
    "food [1]"
   ]
  },
  {
   "cell_type": "code",
   "execution_count": 24,
   "id": "47ba247c-e15e-4b09-9080-5ebc04e763c6",
   "metadata": {},
   "outputs": [
    {
     "data": {
      "text/plain": [
       "np.float64(7.142857142857143)"
      ]
     },
     "execution_count": 24,
     "metadata": {},
     "output_type": "execute_result"
    }
   ],
   "source": [
    "price.mean()"
   ]
  },
  {
   "cell_type": "code",
   "execution_count": 27,
   "id": "c07d1177-775f-404b-a9e5-3145fd05776b",
   "metadata": {},
   "outputs": [
    {
     "data": {
      "text/plain": [
       "array([0., 0., 0., 0., 0., 0.])"
      ]
     },
     "execution_count": 27,
     "metadata": {},
     "output_type": "execute_result"
    }
   ],
   "source": [
    "np.zeros(6)"
   ]
  },
  {
   "cell_type": "code",
   "execution_count": 28,
   "id": "105423c1-4a3d-414f-bf3e-64b3b7de6047",
   "metadata": {},
   "outputs": [
    {
     "data": {
      "text/plain": [
       "array([1., 1., 1., 1., 1.])"
      ]
     },
     "execution_count": 28,
     "metadata": {},
     "output_type": "execute_result"
    }
   ],
   "source": [
    "np.ones(5)"
   ]
  },
  {
   "cell_type": "code",
   "execution_count": 29,
   "id": "4b37ad1d-365c-4517-ada5-b51a26ce749d",
   "metadata": {},
   "outputs": [
    {
     "data": {
      "text/plain": [
       "array([1., 1., 1., 1., 1.])"
      ]
     },
     "execution_count": 29,
     "metadata": {},
     "output_type": "execute_result"
    }
   ],
   "source": [
    "np.empty(5)"
   ]
  },
  {
   "cell_type": "code",
   "execution_count": 30,
   "id": "671bc926-fa5f-484e-bd46-218c94046f37",
   "metadata": {},
   "outputs": [
    {
     "data": {
      "text/plain": [
       "array([0, 1, 2, 3, 4, 5, 6, 7, 8, 9])"
      ]
     },
     "execution_count": 30,
     "metadata": {},
     "output_type": "execute_result"
    }
   ],
   "source": [
    "np.arange(10)"
   ]
  },
  {
   "cell_type": "code",
   "execution_count": 32,
   "id": "dc4fa060-f6b3-49fd-86fa-90479ca191d6",
   "metadata": {},
   "outputs": [
    {
     "data": {
      "text/plain": [
       "array([ 2,  3,  4,  5,  6,  7,  8,  9, 10, 11, 12, 13, 14, 15, 16, 17, 18,\n",
       "       19])"
      ]
     },
     "execution_count": 32,
     "metadata": {},
     "output_type": "execute_result"
    }
   ],
   "source": [
    "np.arange(2,20)"
   ]
  },
  {
   "cell_type": "code",
   "execution_count": 36,
   "id": "c1cc6ff1-9a2c-4e38-97dc-828c150e0365",
   "metadata": {},
   "outputs": [
    {
     "data": {
      "text/plain": [
       "array([ 2,  4,  6,  8, 10, 12, 14, 16, 18, 20, 22, 24, 26, 28, 30])"
      ]
     },
     "execution_count": 36,
     "metadata": {},
     "output_type": "execute_result"
    }
   ],
   "source": [
    "# you are make spasice range like that is the tlabel\n",
    "np.arange(2,32,2)"
   ]
  },
  {
   "cell_type": "code",
   "execution_count": 49,
   "id": "bbc4fe52-730d-4e9c-8030-fcc36f5f177b",
   "metadata": {},
   "outputs": [
    {
     "data": {
      "text/plain": [
       "array([  1.,  12.,  23.,  34.,  45.,  56.,  67.,  78.,  89., 100.])"
      ]
     },
     "execution_count": 49,
     "metadata": {},
     "output_type": "execute_result"
    }
   ],
   "source": [
    "# line space \n",
    "np.linspace(1,100, num= 10)"
   ]
  },
  {
   "cell_type": "code",
   "execution_count": 52,
   "id": "780aa532-f028-4615-89f1-775477225414",
   "metadata": {},
   "outputs": [
    {
     "data": {
      "text/plain": [
       "array([1, 1, 1, 1, 1, 1, 1, 1, 1, 1])"
      ]
     },
     "execution_count": 52,
     "metadata": {},
     "output_type": "execute_result"
    }
   ],
   "source": [
    "# spiceify your data type\n",
    "np.ones(10,dtype= np.int64)"
   ]
  },
  {
   "cell_type": "code",
   "execution_count": 54,
   "id": "5436c0d4-e1bb-4692-8b68-37b37d5bddab",
   "metadata": {},
   "outputs": [
    {
     "data": {
      "text/plain": [
       "array([1., 1., 1., 1., 1., 1., 1., 1., 1., 1.], dtype=float32)"
      ]
     },
     "execution_count": 54,
     "metadata": {},
     "output_type": "execute_result"
    }
   ],
   "source": [
    "np.ones(10,dtype= np.float32)"
   ]
  },
  {
   "cell_type": "markdown",
   "id": "3b673270-9a5b-4a8f-9948-2efa0d162350",
   "metadata": {},
   "source": [
    "## Array function"
   ]
  },
  {
   "cell_type": "code",
   "execution_count": 9,
   "id": "01319714-0317-4a27-b4a2-e298dd9131a6",
   "metadata": {},
   "outputs": [
    {
     "data": {
      "text/plain": [
       "array([52. , 43. ,  0. , 64. ,  2.4, 12. , 88. ,  3. ])"
      ]
     },
     "execution_count": 9,
     "metadata": {},
     "output_type": "execute_result"
    }
   ],
   "source": [
    "a = np.array([52,43,0,64,2.4,12,88,3.0])\n",
    "a  "
   ]
  },
  {
   "cell_type": "code",
   "execution_count": 64,
   "id": "178f0308-abdd-4cd0-9cbb-32309862658a",
   "metadata": {},
   "outputs": [
    {
     "data": {
      "text/plain": [
       "array([32. , 67. ,  0.9,  0.9, 12. , 13. , 14. , 15. , 16. , 17. , 18. ,\n",
       "       19. , 20. ])"
      ]
     },
     "execution_count": 64,
     "metadata": {},
     "output_type": "execute_result"
    }
   ],
   "source": [
    "b = np.array([32,67,0.9,0.9,12,13,14,15,16,17,18,19,20])\n",
    "b"
   ]
  },
  {
   "cell_type": "code",
   "execution_count": 62,
   "id": "c912f917-3bd5-4141-8308-99f5730ffc02",
   "metadata": {},
   "outputs": [
    {
     "data": {
      "text/plain": [
       "array([ 0. ,  2.4,  3. , 12. , 43. , 52. , 64. , 88. ])"
      ]
     },
     "execution_count": 62,
     "metadata": {},
     "output_type": "execute_result"
    }
   ],
   "source": [
    "# This function you will be used for sort (sequence)\n",
    "a.sort()\n",
    "a"
   ]
  },
  {
   "cell_type": "code",
   "execution_count": 10,
   "id": "d547de1b-d276-410d-8b1e-5babb76b3b77",
   "metadata": {},
   "outputs": [
    {
     "ename": "NameError",
     "evalue": "name 'b' is not defined",
     "output_type": "error",
     "traceback": [
      "\u001b[1;31m---------------------------------------------------------------------------\u001b[0m",
      "\u001b[1;31mNameError\u001b[0m                                 Traceback (most recent call last)",
      "Cell \u001b[1;32mIn[10], line 1\u001b[0m\n\u001b[1;32m----> 1\u001b[0m np\u001b[38;5;241m.\u001b[39mconcatenate((a,\u001b[43mb\u001b[49m))\n",
      "\u001b[1;31mNameError\u001b[0m: name 'b' is not defined"
     ]
    }
   ],
   "source": [
    "np.concatenate((a,b))"
   ]
  },
  {
   "cell_type": "code",
   "execution_count": 40,
   "id": "3c1bd170-bab3-458a-94a5-c7cf81d3e64c",
   "metadata": {},
   "outputs": [
    {
     "data": {
      "text/plain": [
       "array([[ 1,  2,  3,  4,  0],\n",
       "       [ 5,  6,  7,  8,  0],\n",
       "       [ 9, 10, 11, 12,  0]])"
      ]
     },
     "execution_count": 40,
     "metadata": {},
     "output_type": "execute_result"
    }
   ],
   "source": [
    "#2-D array\n",
    "l = np.array([[1,2,3,4,0],[5,6,7,8,0],[9,10,11,12,0]])\n",
    "l"
   ]
  },
  {
   "cell_type": "code",
   "execution_count": 30,
   "id": "0f7fd416-4389-4fd8-9907-e58046f7e5a5",
   "metadata": {},
   "outputs": [
    {
     "data": {
      "text/plain": [
       "2"
      ]
     },
     "execution_count": 30,
     "metadata": {},
     "output_type": "execute_result"
    }
   ],
   "source": [
    "l.ndim"
   ]
  },
  {
   "cell_type": "code",
   "execution_count": 31,
   "id": "3f84191c-73c6-4c82-8df8-cd92f36fb0b1",
   "metadata": {},
   "outputs": [
    {
     "data": {
      "text/plain": [
       "numpy.ndarray"
      ]
     },
     "execution_count": 31,
     "metadata": {},
     "output_type": "execute_result"
    }
   ],
   "source": [
    "type (l)"
   ]
  },
  {
   "cell_type": "code",
   "execution_count": 42,
   "id": "1706f423-8b63-44d0-86e3-ac033436332f",
   "metadata": {},
   "outputs": [
    {
     "data": {
      "text/plain": [
       "15"
      ]
     },
     "execution_count": 42,
     "metadata": {},
     "output_type": "execute_result"
    }
   ],
   "source": [
    "# size (number of elements)\n",
    "l.size"
   ]
  },
  {
   "cell_type": "code",
   "execution_count": 41,
   "id": "0f689bbc-1cff-45d2-874f-9068faec6012",
   "metadata": {},
   "outputs": [
    {
     "data": {
      "text/plain": [
       "(3, 5)"
      ]
     },
     "execution_count": 41,
     "metadata": {},
     "output_type": "execute_result"
    }
   ],
   "source": [
    "l.shape"
   ]
  },
  {
   "cell_type": "code",
   "execution_count": 59,
   "id": "74e5818e-7237-4756-89ce-ec6139ebd95d",
   "metadata": {},
   "outputs": [
    {
     "data": {
      "text/plain": [
       "array([0, 1, 2, 3, 4, 5, 6, 7, 8])"
      ]
     },
     "execution_count": 59,
     "metadata": {},
     "output_type": "execute_result"
    }
   ],
   "source": [
    "m = np.arange(9)\n",
    "m"
   ]
  },
  {
   "cell_type": "code",
   "execution_count": 60,
   "id": "7514eabe-e687-49cd-a705-34eba62cf16f",
   "metadata": {},
   "outputs": [
    {
     "data": {
      "text/plain": [
       "array([[0, 1, 2],\n",
       "       [3, 4, 5],\n",
       "       [6, 7, 8]])"
      ]
     },
     "execution_count": 60,
     "metadata": {},
     "output_type": "execute_result"
    }
   ],
   "source": [
    "m.reshape(3,3)"
   ]
  },
  {
   "cell_type": "code",
   "execution_count": 72,
   "id": "52a496fd-4154-46c4-b5bc-64be03f5406b",
   "metadata": {},
   "outputs": [
    {
     "data": {
      "text/plain": [
       "array([1, 2, 3, 4, 5, 6, 7, 8, 9])"
      ]
     },
     "execution_count": 72,
     "metadata": {},
     "output_type": "execute_result"
    }
   ],
   "source": [
    "# convert 1D into 2D array\n",
    "o = np.array([1,2,3,4,5,6,7,8,9])\n",
    "o"
   ]
  },
  {
   "cell_type": "code",
   "execution_count": 73,
   "id": "5797f446-fcd9-4da2-9530-f1da625690f1",
   "metadata": {},
   "outputs": [
    {
     "data": {
      "text/plain": [
       "(9,)"
      ]
     },
     "execution_count": 73,
     "metadata": {},
     "output_type": "execute_result"
    }
   ],
   "source": [
    "o.shape"
   ]
  },
  {
   "cell_type": "code",
   "execution_count": 88,
   "id": "df10517b-90b0-4b26-990e-8ede74c6f921",
   "metadata": {},
   "outputs": [
    {
     "data": {
      "text/plain": [
       "array([[1],\n",
       "       [2],\n",
       "       [3],\n",
       "       [4],\n",
       "       [5],\n",
       "       [6],\n",
       "       [7],\n",
       "       [8],\n",
       "       [9]])"
      ]
     },
     "execution_count": 88,
     "metadata": {},
     "output_type": "execute_result"
    }
   ],
   "source": [
    "p = o[ : , np.newaxis]\n",
    "p"
   ]
  },
  {
   "cell_type": "code",
   "execution_count": 89,
   "id": "904f29a8-6d8a-43f5-915c-55705d836f50",
   "metadata": {},
   "outputs": [
    {
     "data": {
      "text/plain": [
       "(9, 1)"
      ]
     },
     "execution_count": 89,
     "metadata": {},
     "output_type": "execute_result"
    }
   ],
   "source": [
    "p.shape"
   ]
  },
  {
   "cell_type": "code",
   "execution_count": null,
   "id": "7006e990-10b4-44ab-9e29-02efecd05a31",
   "metadata": {},
   "outputs": [],
   "source": []
  }
 ],
 "metadata": {
  "kernelspec": {
   "display_name": "Python 3 (ipykernel)",
   "language": "python",
   "name": "python3"
  },
  "language_info": {
   "codemirror_mode": {
    "name": "ipython",
    "version": 3
   },
   "file_extension": ".py",
   "mimetype": "text/x-python",
   "name": "python",
   "nbconvert_exporter": "python",
   "pygments_lexer": "ipython3",
   "version": "3.12.6"
  }
 },
 "nbformat": 4,
 "nbformat_minor": 5
}
