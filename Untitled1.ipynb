{
 "cells": [
  {
   "cell_type": "markdown",
   "id": "eb5b0ebd-5fb4-45ed-a8de-a1795ecf075a",
   "metadata": {},
   "source": [
    "# Day-8-Video-19 "
   ]
  },
  {
   "cell_type": "code",
   "execution_count": null,
   "id": "131886db-8d2c-4af9-bfaf-f1373cded6c7",
   "metadata": {},
   "outputs": [],
   "source": [
    "import plotly as py\n"
   ]
  }
 ],
 "metadata": {
  "kernelspec": {
   "display_name": "Python 3 (ipykernel)",
   "language": "python",
   "name": "python3"
  },
  "language_info": {
   "codemirror_mode": {
    "name": "ipython",
    "version": 3
   },
   "file_extension": ".py",
   "mimetype": "text/x-python",
   "name": "python",
   "nbconvert_exporter": "python",
   "pygments_lexer": "ipython3",
   "version": "3.12.6"
  }
 },
 "nbformat": 4,
 "nbformat_minor": 5
}
