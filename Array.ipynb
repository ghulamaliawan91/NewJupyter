{
 "cells": [
  {
   "cell_type": "markdown",
   "id": "8a92f8fe-fc20-4a7b-90d7-b5069e98fb46",
   "metadata": {},
   "source": [
    "### How to creat Array?\n",
    "#### Many functions for Array \n",
    "1. np.array\n",
    "2. np.zeros\n",
    "3. np.ones\n",
    "4. np.empty\n",
    "5. np.arange (simple range and specific range bothe you can do it your requirement and your need)\n",
    "6. np.arange (contime) ap is ka waqfa be de skte hain ke two figer mein kitna waqafa hon chaye\n",
    "7. np.linspace(0,10,num=5) is mein two number k bech mein equel figer print ho ga\n",
    "8. "
   ]
  },
  {
   "cell_type": "code",
   "execution_count": 34,
   "id": "52137467-b57e-4bfc-9e6e-751bd2678642",
   "metadata": {},
   "outputs": [
    {
     "data": {
      "text/plain": [
       "array([0, 1, 2, 3, 4, 5])"
      ]
     },
     "execution_count": 34,
     "metadata": {},
     "output_type": "execute_result"
    }
   ],
   "source": [
    "# with range of element\n",
    "import numpy as np\n",
    "a = np.arange(6)\n",
    "a"
   ]
  },
  {
   "cell_type": "code",
   "execution_count": 35,
   "id": "50d6a1b2-b299-4cba-a595-38e6e04ea7f0",
   "metadata": {},
   "outputs": [
    {
     "data": {
      "text/plain": [
       "array([0., 0., 0., 0., 0.])"
      ]
     },
     "execution_count": 35,
     "metadata": {},
     "output_type": "execute_result"
    }
   ],
   "source": [
    "b = np.zeros(5)\n",
    "b"
   ]
  },
  {
   "cell_type": "code",
   "execution_count": 36,
   "id": "b3105c2f-47b9-4fe9-b629-5b9815b13231",
   "metadata": {},
   "outputs": [
    {
     "data": {
      "text/plain": [
       "array([1., 1., 1., 1., 1.])"
      ]
     },
     "execution_count": 36,
     "metadata": {},
     "output_type": "execute_result"
    }
   ],
   "source": [
    "c = np.ones(5)\n",
    "c"
   ]
  },
  {
   "cell_type": "code",
   "execution_count": 37,
   "id": "0e5ef413-f4ec-4f82-abc7-1ba9872a2d60",
   "metadata": {},
   "outputs": [
    {
     "data": {
      "text/plain": [
       "array([1., 1., 1., 1., 1.])"
      ]
     },
     "execution_count": 37,
     "metadata": {},
     "output_type": "execute_result"
    }
   ],
   "source": [
    "d = np.empty(5)\n",
    "d"
   ]
  },
  {
   "cell_type": "code",
   "execution_count": 38,
   "id": "4eafac51-46ad-4700-8313-e950801fea43",
   "metadata": {},
   "outputs": [
    {
     "data": {
      "text/plain": [
       "array([ 0,  1,  2,  3,  4,  5,  6,  7,  8,  9, 10, 11, 12, 13, 14, 15, 16,\n",
       "       17, 18, 19])"
      ]
     },
     "execution_count": 38,
     "metadata": {},
     "output_type": "execute_result"
    }
   ],
   "source": [
    "e = np.arange(0,20)\n",
    "e"
   ]
  },
  {
   "cell_type": "code",
   "execution_count": 39,
   "id": "bd422e42-160d-4529-a72a-76571d6739c9",
   "metadata": {},
   "outputs": [
    {
     "data": {
      "text/plain": [
       "array([ 0,  3,  6,  9, 12, 15, 18, 21, 24, 27])"
      ]
     },
     "execution_count": 39,
     "metadata": {},
     "output_type": "execute_result"
    }
   ],
   "source": [
    "#continue same like pahara \n",
    "f = np.arange(0,30,3)\n",
    "f"
   ]
  },
  {
   "cell_type": "code",
   "execution_count": 40,
   "id": "0b7b9a60-a6ef-46e0-9e44-770c57a83415",
   "metadata": {},
   "outputs": [
    {
     "data": {
      "text/plain": [
       "array([ 0. ,  2.5,  5. ,  7.5, 10. ])"
      ]
     },
     "execution_count": 40,
     "metadata": {},
     "output_type": "execute_result"
    }
   ],
   "source": [
    "# is function mein ap ko ek number say dosary number\n",
    "# ke darmeyan equal fasla mele ga\n",
    "\n",
    "g = np.linspace(0,10,num=5)\n",
    "g"
   ]
  },
  {
   "cell_type": "code",
   "execution_count": 44,
   "id": "39cab73f-dd11-44f7-822e-64a5ea089a21",
   "metadata": {},
   "outputs": [
    {
     "data": {
      "text/plain": [
       "array([1, 1, 1, 1, 1], dtype=int8)"
      ]
     },
     "execution_count": 44,
     "metadata": {},
     "output_type": "execute_result"
    }
   ],
   "source": [
    "#specific dat types in array\n",
    "h = np.ones(5,dtype=np.int8)\n",
    "h"
   ]
  },
  {
   "cell_type": "markdown",
   "id": "639f0cdd-5333-40bd-b083-e499f93b59ac",
   "metadata": {},
   "source": [
    "### How to create an array? for 2-D arrrays \n"
   ]
  },
  {
   "cell_type": "code",
   "execution_count": 50,
   "id": "b8d49da0-e9fe-4b4b-b543-208ad8ecabe4",
   "metadata": {},
   "outputs": [
    {
     "data": {
      "text/plain": [
       "(array([[0., 0., 0., 0., 0.],\n",
       "        [0., 0., 0., 0., 0.],\n",
       "        [0., 0., 0., 0., 0.]]),)"
      ]
     },
     "execution_count": 50,
     "metadata": {},
     "output_type": "execute_result"
    }
   ],
   "source": [
    "np.zeros((3,5)) #(here three column and 5 rowes )"
   ]
  },
  {
   "cell_type": "code",
   "execution_count": 51,
   "id": "d4ff408b-35de-47da-a108-845279549e07",
   "metadata": {},
   "outputs": [
    {
     "data": {
      "text/plain": [
       "array([[1., 1., 1., 1., 1., 1.],\n",
       "       [1., 1., 1., 1., 1., 1.],\n",
       "       [1., 1., 1., 1., 1., 1.],\n",
       "       [1., 1., 1., 1., 1., 1.]])"
      ]
     },
     "execution_count": 51,
     "metadata": {},
     "output_type": "execute_result"
    }
   ],
   "source": [
    "np.ones((4,6))"
   ]
  },
  {
   "cell_type": "markdown",
   "id": "79477d9c-9ea9-4f69-a87d-0ddeff8a727a",
   "metadata": {},
   "source": [
    "## how to create an array ? 3-D array"
   ]
  },
  {
   "cell_type": "code",
   "execution_count": 68,
   "id": "4c509762-e4f1-410f-9b2d-7e4df27aec04",
   "metadata": {},
   "outputs": [
    {
     "data": {
      "text/plain": [
       "array([[[ 0,  1,  2,  3],\n",
       "        [ 4,  5,  6,  7],\n",
       "        [ 8,  9, 10, 11]],\n",
       "\n",
       "       [[12, 13, 14, 15],\n",
       "        [16, 17, 18, 19],\n",
       "        [20, 21, 22, 23]]])"
      ]
     },
     "execution_count": 68,
     "metadata": {},
     "output_type": "execute_result"
    }
   ],
   "source": [
    "# making and reshaping a 3D array \n",
    "np.arange(24).reshape(2,3,4,)\n"
   ]
  },
  {
   "cell_type": "code",
   "execution_count": null,
   "id": "d448b88d-fa8d-4307-947c-205346e4b251",
   "metadata": {},
   "outputs": [],
   "source": []
  }
 ],
 "metadata": {
  "kernelspec": {
   "display_name": "Python 3 (ipykernel)",
   "language": "python",
   "name": "python3"
  },
  "language_info": {
   "codemirror_mode": {
    "name": "ipython",
    "version": 3
   },
   "file_extension": ".py",
   "mimetype": "text/x-python",
   "name": "python",
   "nbconvert_exporter": "python",
   "pygments_lexer": "ipython3",
   "version": "3.12.6"
  }
 },
 "nbformat": 4,
 "nbformat_minor": 5
}
