{
 "cells": [
  {
   "cell_type": "code",
   "execution_count": 2,
   "id": "ceb9434d-4491-4d8e-a21c-a252ecb952fc",
   "metadata": {},
   "outputs": [
    {
     "data": {
      "text/plain": [
       "('ghulam', 'awan', 'kahan')"
      ]
     },
     "execution_count": 2,
     "metadata": {},
     "output_type": "execute_result"
    }
   ],
   "source": [
    "list1 = (\"ghulam\",\"awan\",\"kahan\")\n",
    "list1"
   ]
  },
  {
   "cell_type": "code",
   "execution_count": 3,
   "id": "13df34e4-86b3-4842-b365-d190d0a4eb50",
   "metadata": {},
   "outputs": [
    {
     "data": {
      "text/plain": [
       "3"
      ]
     },
     "execution_count": 3,
     "metadata": {},
     "output_type": "execute_result"
    }
   ],
   "source": [
    "len (list1)"
   ]
  },
  {
   "cell_type": "code",
   "execution_count": 4,
   "id": "0098bd79-d823-444b-9e65-4564e58abb70",
   "metadata": {},
   "outputs": [
    {
     "data": {
      "text/plain": [
       "'kahan'"
      ]
     },
     "execution_count": 4,
     "metadata": {},
     "output_type": "execute_result"
    }
   ],
   "source": [
    "max (list1)"
   ]
  },
  {
   "cell_type": "code",
   "execution_count": 6,
   "id": "568626ae-3dea-403a-8ac0-894c9b25e23e",
   "metadata": {},
   "outputs": [
    {
     "data": {
      "text/plain": [
       "('awan', 'kahan')"
      ]
     },
     "execution_count": 6,
     "metadata": {},
     "output_type": "execute_result"
    }
   ],
   "source": [
    "list1[1:3]"
   ]
  },
  {
   "cell_type": "code",
   "execution_count": 8,
   "id": "881b95c5-132c-4572-8c1a-60f9d1faa00b",
   "metadata": {},
   "outputs": [],
   "source": [
    "list2 = (12,33,43,90)"
   ]
  },
  {
   "cell_type": "code",
   "execution_count": 10,
   "id": "5dcf310e-6ca5-401f-b74b-1fc12ff914c5",
   "metadata": {},
   "outputs": [
    {
     "data": {
      "text/plain": [
       "(12, 33, 43, 90)"
      ]
     },
     "execution_count": 10,
     "metadata": {},
     "output_type": "execute_result"
    }
   ],
   "source": [
    "list2"
   ]
  },
  {
   "cell_type": "code",
   "execution_count": 11,
   "id": "adc9d46e-b561-474d-921e-e270e828015a",
   "metadata": {},
   "outputs": [
    {
     "data": {
      "text/plain": [
       "('ghulam', 'awan', 'kahan', 12, 33, 43, 90)"
      ]
     },
     "execution_count": 11,
     "metadata": {},
     "output_type": "execute_result"
    }
   ],
   "source": [
    "list1 + list2"
   ]
  },
  {
   "cell_type": "code",
   "execution_count": 13,
   "id": "a567a683-8f1f-416f-8c41-b5cab504fc00",
   "metadata": {},
   "outputs": [
    {
     "data": {
      "text/plain": [
       "0"
      ]
     },
     "execution_count": 13,
     "metadata": {},
     "output_type": "execute_result"
    }
   ],
   "source": [
    "list1.count(list2)"
   ]
  },
  {
   "cell_type": "code",
   "execution_count": null,
   "id": "1d5da7fa-3589-4313-9b25-2c1d78f215e6",
   "metadata": {},
   "outputs": [],
   "source": []
  }
 ],
 "metadata": {
  "kernelspec": {
   "display_name": "Python 3 (ipykernel)",
   "language": "python",
   "name": "python3"
  },
  "language_info": {
   "codemirror_mode": {
    "name": "ipython",
    "version": 3
   },
   "file_extension": ".py",
   "mimetype": "text/x-python",
   "name": "python",
   "nbconvert_exporter": "python",
   "pygments_lexer": "ipython3",
   "version": "3.12.6"
  }
 },
 "nbformat": 4,
 "nbformat_minor": 5
}
