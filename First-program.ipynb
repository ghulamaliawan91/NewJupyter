{
 "cells": [
  {
   "cell_type": "code",
   "execution_count": 61,
   "id": "36dc82da-e7df-4fd8-b21a-c712a62664c9",
   "metadata": {},
   "outputs": [
    {
     "name": "stdin",
     "output_type": "stream",
     "text": [
      "what is your height? 1.8\n"
     ]
    }
   ],
   "source": [
    "height = input (\"what is your height?\")"
   ]
  },
  {
   "cell_type": "code",
   "execution_count": 51,
   "id": "3963e736-c4d4-47c2-96af-e0203269a974",
   "metadata": {},
   "outputs": [],
   "source": [
    "height = float (height)"
   ]
  },
  {
   "cell_type": "code",
   "execution_count": 62,
   "id": "bd4af25a-28fe-4176-a08b-9b4656bccdf7",
   "metadata": {},
   "outputs": [
    {
     "name": "stdin",
     "output_type": "stream",
     "text": [
      "what is your weight? 70\n"
     ]
    }
   ],
   "source": [
    "weight = input (\"what is your weight?\")"
   ]
  },
  {
   "cell_type": "code",
   "execution_count": 45,
   "id": "dda5650c-5799-41f0-86fe-7d746e17c109",
   "metadata": {},
   "outputs": [],
   "source": [
    "weight = float (weight)"
   ]
  },
  {
   "cell_type": "code",
   "execution_count": 1,
   "id": "d45faa0d-5060-43ea-a105-bb61e5fbab83",
   "metadata": {},
   "outputs": [
    {
     "name": "stdin",
     "output_type": "stream",
     "text": [
      "what is your name? ghulam ali\n"
     ]
    }
   ],
   "source": [
    "name = input (\"what is your name?\")"
   ]
  }
 ],
 "metadata": {
  "kernelspec": {
   "display_name": "Python 3 (ipykernel)",
   "language": "python",
   "name": "python3"
  },
  "language_info": {
   "codemirror_mode": {
    "name": "ipython",
    "version": 3
   },
   "file_extension": ".py",
   "mimetype": "text/x-python",
   "name": "python",
   "nbconvert_exporter": "python",
   "pygments_lexer": "ipython3",
   "version": "3.12.6"
  }
 },
 "nbformat": 4,
 "nbformat_minor": 5
}
